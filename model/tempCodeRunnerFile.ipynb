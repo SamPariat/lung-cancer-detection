!pip install pandas-profiling
!pip install imbalanced-learn
!pip install ipywidgets
!pip install mlxtend